{
  "nbformat": 4,
  "nbformat_minor": 0,
  "metadata": {
    "colab": {
      "provenance": [],
      "include_colab_link": true
    },
    "kernelspec": {
      "name": "python3",
      "display_name": "Python 3"
    },
    "language_info": {
      "name": "python"
    }
  },
  "cells": [
    {
      "cell_type": "markdown",
      "metadata": {
        "id": "view-in-github",
        "colab_type": "text"
      },
      "source": [
        "<a href=\"https://colab.research.google.com/github/AntunesLab/crossdome/blob/cd_on_colab/CrossDome_Single_entry.ipynb\" target=\"_parent\"><img src=\"https://colab.research.google.com/assets/colab-badge.svg\" alt=\"Open In Colab\"/></a>"
      ]
    },
    {
      "cell_type": "markdown",
      "source": [
        "<img src=\"https://dinlerantunes.com/assets/images/lab-logo.png\" height=\"200\">\n",
        "\n",
        "\n",
        "# Welcome to CrossDome on Google Colab!\n",
        "\n",
        "---\n",
        "\n",
        "The full CrossDome source and documentation are available at https://github.com/AntunesLab/crossdome\n",
        "\n",
        "---\n",
        "\n",
        "***If you use CrossDome in published research, please cite:***\n",
        "Fonseca AF, Antunes DA. CrossDome: an interactive R package to predict cross-reactivity risk using immunopeptidomics databases. Front Immunol. 2023;14:1142573. Published 2023 Jun 12. doi:10.3389/fimmu.2023.1142573\n",
        "\n",
        "---\n",
        "\n",
        "**Acknowledgments**\n",
        "This Google Colab Notebook was created by Antunes Lab: Martiela Freitas and Pamella Borges."
      ],
      "metadata": {
        "id": "zUPIHjL4WkkS"
      }
    },
    {
      "cell_type": "code",
      "source": [
        "import os\n",
        "\n",
        "# Check if the file exists before attempting to copy or extract\n",
        "if not os.path.exists('usr/local/lib/R/site-library/crossdome'):\n",
        "  os.system(f'wget https://www.dropbox.com/scl/fi/yxghqpynw0bo8gouic694/library_1.zip?rlkey=7mafkhdhkn86kf9lovkt7gi06&st=81kwlz0z&dl=0')\n",
        "  os.system(f'unzip /content/library_1.zip?rlkey=7mafkhdhkn86kf9lovkt7gi06')\n",
        "else:\n",
        "  print(\"File already exists. Skipping download and extraction.\")"
      ],
      "metadata": {
        "id": "iqN7UKpneOYz"
      },
      "execution_count": 15,
      "outputs": []
    },
    {
      "cell_type": "code",
      "source": [
        "%%capture\n",
        "# activate R magic\n",
        "%load_ext rpy2.ipython"
      ],
      "metadata": {
        "id": "v-BrcGMSWwT-",
        "collapsed": true
      },
      "execution_count": 16,
      "outputs": []
    },
    {
      "cell_type": "code",
      "execution_count": 17,
      "metadata": {
        "id": "WhHNNMiRktwo",
        "colab": {
          "base_uri": "https://localhost:8080/"
        },
        "outputId": "198830d8-882f-4702-96a1-c136cc124181"
      },
      "outputs": [
        {
          "output_type": "stream",
          "name": "stderr",
          "text": [
            "WARNING:rpy2.rinterface_lib.callbacks:R[write to console]: crossdome v0.0.0.9000. For help, please check the package vignettes!:) \n",
            "If you use crossdome in published research, please cite: <coming soon>\n",
            "\n",
            "\n"
          ]
        }
      ],
      "source": [
        "%%R\n",
        "\n",
        "if(file.exists('/content/usr/local/lib/R/site-library/crossdome')){\n",
        "    #Load library\n",
        "  .libPaths('usr/local/lib/R/site-library/')\n",
        "  library(crossdome)\n",
        "}\n",
        "else{\n",
        "  print(\"CrossDome library not found yet. Please, wait a few minuts to finish the library extraction and run again\")\n",
        "}\n"
      ]
    },
    {
      "cell_type": "markdown",
      "source": [
        "Beware that CrossDome only works for 9mer peptides.\n",
        "\n",
        "You chose to run CrossDome using a single input, please use the following format:\n",
        "\n",
        "```\n",
        "hla_allele = \"HLA-A*02:01\"\n",
        "\n",
        "peptide = \"LLFGYPVYV\"\n",
        "```\n",
        "These information should be added on the cell bellow."
      ],
      "metadata": {
        "id": "kKNEM9-Qq5zL"
      }
    },
    {
      "cell_type": "code",
      "source": [
        "# If you have chosen \"Single entry\", please complete the following fields:\n",
        "allele = \"HLA-A*02:01\"\n",
        "query = \"LLFGYPVYV\""
      ],
      "metadata": {
        "id": "n72RUtGBlQa7"
      },
      "execution_count": 20,
      "outputs": []
    },
    {
      "cell_type": "code",
      "source": [
        "%%R -i allele -i query\n",
        "\n",
        "# Create a unique identifier for files\n",
        "file_identifier <- paste(allele, query, sep=\"_\")\n",
        "file_identifier <- gsub(\"[:*]\", \"\", file_identifier) # Remove special characters that may not be valid in file names\n",
        "\n",
        "# Set up the database with specific allele, withOUT off_target\n",
        "database <- cross_background(allele = allele)\n",
        "database\n",
        "\n",
        "# Compose result using the query value\n",
        "result <- cross_compose(query = query, background = database)\n",
        "\n",
        "# View result - use print if running in a non-interactive environment\n",
        "#print(result@result)\n",
        "\n",
        "# Save each result to a separate CSV file\n",
        "result_file_name <- paste0(file_identifier, \".csv\")\n",
        "write.csv(result@result, file = result_file_name, row.names = FALSE)\n",
        "print(paste0(\"Your results were saved as: \", file_identifier, \".csv\"))\n",
        "\n",
        "# Optionally, collect all results in a list for further processing\n",
        "#results_list[[file_identifier]] <- result@result\n",
        "\n",
        "# Extracting the gene donor mRNA expression based on CR candidates\n",
        "expression_matrix <- cross_expression_matrix(result, pvalue_threshold = 0.005)\n",
        "#expression_matrix\n",
        "\n",
        "# The heatmap presenting the gene donor expression profile\n",
        "pdf(paste0(file_identifier, \"_expression_heatmap.pdf\"), width = 15, height = 30)\n",
        "cross_expression_plot(object = expression_matrix)\n",
        "dev.off()\n",
        "print(paste0(\"Your heatmap presenting the gene donor expression profile was saved as: \",\n",
        "file_identifier, \"_expression_heatmap.pdf\"))\n",
        "\n",
        "## Summarizing tissue specificity across candidates\n",
        "\n",
        "# Bar plot summarizing the tissue-specificity groups\n",
        "pdf(paste0(file_identifier, \"_tissue_specificity.pdf\"))\n",
        "cross_tissues_plot(object = expression_matrix)\n",
        "dev.off()\n",
        "print(paste0(\"Your Bar plot summarizing the tissue-specificity groups was saved as: \",\n",
        "file_identifier, \"_tissue_specificity.pdf\"))\n",
        "\n",
        "## Displaying peptides composition across best-score candidates\n",
        "\n",
        "# Calculate position-specific substitution across cross-reactive candidates\n",
        "cross_result <- cross_substitution_matrix(result)\n",
        "#cross_result\n",
        "\n",
        "# Heatmap combined with seqlogo displaying amino acid substitutions\n",
        "pdf(paste0(file_identifier, \"cross_substitution.pdf\"))\n",
        "cross_substitution_plot(object = cross_result)\n",
        "dev.off()\n",
        "print(paste0(\"Your Heatmap combined with seqlogo displaying amino acid substitutions was saved as: \",\n",
        "file_identifier, \"cross_substitution.pdf\"))"
      ],
      "metadata": {
        "id": "QSlG32wsjWxX",
        "colab": {
          "base_uri": "https://localhost:8080/"
        },
        "outputId": "69ea472c-8ac2-48f5-de49-7e02ec4ed021"
      },
      "execution_count": 26,
      "outputs": [
        {
          "output_type": "stream",
          "name": "stdout",
          "text": [
            "##------ Tue Aug 27 14:46:43 2024 ------##\n",
            "[1] \"Your results were saved as: HLA-A0201_LLFGYPVYV.csv\"\n",
            "[1] \"Your heatmap presenting the gene donor expression profile was saved as: HLA-A0201_LLFGYPVYV_expression_heatmap.pdf\"\n",
            "[1] \"Your Bar plot summarizing the tissue-specificity groups was saved as: HLA-A0201_LLFGYPVYV_tissue_specificity.pdf\"\n",
            "[1] \"Your Heatmap combined with seqlogo displaying amino acid substitutions was saved as: HLA-A0201_LLFGYPVYVcross_substitution.pdf\"\n"
          ]
        }
      ]
    },
    {
      "cell_type": "code",
      "source": [],
      "metadata": {
        "id": "DSWdVs5NSSNv"
      },
      "execution_count": null,
      "outputs": []
    },
    {
      "cell_type": "code",
      "source": [
        "#@title ### Import Google Drive\n",
        "#@markdown Click on the \"Run\" button if you would like to connect your analysis to your Google Drive.\n",
        "%%capture\n"
      ],
      "metadata": {
        "id": "z94RkVMBpro4",
        "cellView": "form"
      },
      "execution_count": null,
      "outputs": []
    },
    {
      "cell_type": "code",
      "source": [
        "#@title ### **Save results on Drive**\n",
        "\n",
        "#@markdown Run this cell to save your results on your Google Drive\n",
        "#@markdown ---\n",
        "#@markdown Please, complete the name of the folder you would like to create with your results in the folder_name area\n",
        "\n",
        "from google.colab import drive\n",
        "\n",
        "drive.flush_and_unmount()\n",
        "drive.mount('/content/drive', force_remount=True)\n",
        "\n",
        "folder_name = \"CrossDome_Results\" #@param {type:\"string\"}\n",
        "\n",
        "#@markdown Please, complete the path of the folder you would like to create with your results in the path_results area\n",
        "path_results = \"/content/drive/MyDrive/1.PhD/CrossDome\" #@param {type:\"string\"}\n",
        "# Import necessary modules\n",
        "import os\n",
        "\n",
        "# Construct the full path to the results\n",
        "full_results_path = os.path.join(path_results, folder_name)\n",
        "\n",
        "\n",
        "# Create a folder in the root directory\n",
        "if os.path.exists(path_results):\n",
        "    # Create the folder to save the results\n",
        "    os.system(f'mkdir -p {full_results_path}')\n",
        "\n",
        "    #directory_files = os.listdir(\"/content/\")\n",
        "    os.system(f'cp /content/*.pdf {full_results_path}')\n",
        "    os.system(f'cp /content/*.csv {full_results_path}')\n",
        "    print(\"Results saved successfully.\")\n",
        "else:\n",
        "    print(\"Folder not found. Please check the library path and name.\")"
      ],
      "metadata": {
        "id": "sDLbtLtQWTsR",
        "cellView": "form",
        "colab": {
          "base_uri": "https://localhost:8080/"
        },
        "outputId": "5f963ff2-ddb2-42f8-a648-567522752504"
      },
      "execution_count": null,
      "outputs": [
        {
          "output_type": "stream",
          "name": "stdout",
          "text": [
            "Drive not mounted, so nothing to flush and unmount.\n",
            "Mounted at /content/drive\n",
            "Results saved successfully.\n"
          ]
        }
      ]
    }
  ]
}