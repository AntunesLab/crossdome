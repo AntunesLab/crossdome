{
  "nbformat": 4,
  "nbformat_minor": 0,
  "metadata": {
    "colab": {
      "provenance": [],
      "include_colab_link": true
    },
    "kernelspec": {
      "name": "python3",
      "display_name": "Python 3"
    },
    "language_info": {
      "name": "python"
    }
  },
  "cells": [
    {
      "cell_type": "markdown",
      "metadata": {
        "id": "view-in-github",
        "colab_type": "text"
      },
      "source": [
        "<a href=\"https://colab.research.google.com/github/AntunesLab/crossdome/blob/cd_on_colab/CrossDome_Multiple_entry.ipynb\" target=\"_parent\"><img src=\"https://colab.research.google.com/assets/colab-badge.svg\" alt=\"Open In Colab\"/></a>"
      ]
    },
    {
      "cell_type": "markdown",
      "source": [
        "<img src=\"https://dinlerantunes.com/assets/images/lab-logo.png\" height=\"200\">\n",
        "\n",
        "\n",
        "# Welcome to CrossDome on Google Colab!\n",
        "\n",
        "---\n",
        "\n",
        "The full CrossDome source and documentation are available at https://github.com/AntunesLab/crossdome\n",
        "\n",
        "---\n",
        "\n",
        "***If you use CrossDome in published research, please cite:***\n",
        "Fonseca AF, Antunes DA. CrossDome: an interactive R package to predict cross-reactivity risk using immunopeptidomics databases. Front Immunol. 2023;14:1142573. Published 2023 Jun 12. doi:10.3389/fimmu.2023.1142573\n",
        "\n",
        "---\n",
        "\n",
        "**Acknowledgments**\n",
        "This Google Colab Notebook was created by Antunes Lab: Martiela Freitas and Pamella Borges."
      ],
      "metadata": {
        "id": "zUPIHjL4WkkS"
      }
    },
    {
      "cell_type": "code",
      "source": [
        "import os\n",
        "\n",
        "# Check if the file exists before attempting to copy or extract\n",
        "if not os.path.exists('usr/local/lib/R/site-library/crossdome'):\n",
        "  os.system(f'wget https://www.dropbox.com/scl/fi/yxghqpynw0bo8gouic694/library_1.zip?rlkey=7mafkhdhkn86kf9lovkt7gi06&st=81kwlz0z&dl=0')\n",
        "  os.system(f'unzip /content/library_1.zip?rlkey=7mafkhdhkn86kf9lovkt7gi06')\n",
        "else:\n",
        "  print(\"File already exists. Skipping download and extraction.\")"
      ],
      "metadata": {
        "id": "iqN7UKpneOYz",
        "colab": {
          "base_uri": "https://localhost:8080/"
        },
        "outputId": "a68150d8-7a6c-41b8-efe0-da21afb2d9c8"
      },
      "execution_count": 2,
      "outputs": [
        {
          "output_type": "stream",
          "name": "stdout",
          "text": [
            "File already exists. Skipping download and extraction.\n"
          ]
        }
      ]
    },
    {
      "cell_type": "code",
      "source": [
        "%%capture\n",
        "# activate R magic\n",
        "%load_ext rpy2.ipython"
      ],
      "metadata": {
        "id": "v-BrcGMSWwT-",
        "collapsed": true
      },
      "execution_count": 3,
      "outputs": []
    },
    {
      "cell_type": "code",
      "execution_count": 4,
      "metadata": {
        "id": "WhHNNMiRktwo",
        "colab": {
          "base_uri": "https://localhost:8080/"
        },
        "outputId": "1eb419f6-27d5-43d7-8254-9ff86bf7e7ff"
      },
      "outputs": [
        {
          "output_type": "stream",
          "name": "stderr",
          "text": [
            "WARNING:rpy2.rinterface_lib.callbacks:R[write to console]: crossdome v0.0.0.9000. For help, please check the package vignettes!:) \n",
            "If you use crossdome in published research, please cite: <coming soon>\n",
            "\n",
            "\n"
          ]
        }
      ],
      "source": [
        "%%R\n",
        "\n",
        "if(file.exists('/content/usr/local/lib/R/site-library/crossdome')){\n",
        "    #Load library\n",
        "  .libPaths('usr/local/lib/R/site-library/')\n",
        "  library(crossdome)\n",
        "}\n",
        "else{\n",
        "  print(\"CrossDome library not found yet. Please, wait a few minuts to finish the library extraction and run again\")\n",
        "}\n"
      ]
    },
    {
      "cell_type": "markdown",
      "source": [
        "Beware that CrossDome only works for 9mer peptides.\n",
        "\n",
        "You chose to run CrossDome using a table as input, please use the following format:\n",
        "\n",
        "|    Allele    |    Peptide   |\n",
        "| ------------ | ------------ |\n",
        "| HLA-A*02:01  | RPILTISTL    |\n",
        "| HLA-B*07:02  | RPILTISTL    |"
      ],
      "metadata": {
        "id": "kKNEM9-Qq5zL"
      }
    },
    {
      "cell_type": "code",
      "source": [
        "# upload your table to /content/\n",
        "\n",
        "from google.colab import files\n",
        "uploaded = files.upload()"
      ],
      "metadata": {
        "colab": {
          "base_uri": "https://localhost:8080/",
          "height": 73
        },
        "id": "BLUTjAtRAhNE",
        "outputId": "9c6a64c4-0035-4a24-fff4-80cc65f12741"
      },
      "execution_count": 20,
      "outputs": [
        {
          "output_type": "display_data",
          "data": {
            "text/plain": [
              "<IPython.core.display.HTML object>"
            ],
            "text/html": [
              "\n",
              "     <input type=\"file\" id=\"files-f33bbad7-15ba-4441-892a-a9e3c9f79e3a\" name=\"files[]\" multiple disabled\n",
              "        style=\"border:none\" />\n",
              "     <output id=\"result-f33bbad7-15ba-4441-892a-a9e3c9f79e3a\">\n",
              "      Upload widget is only available when the cell has been executed in the\n",
              "      current browser session. Please rerun this cell to enable.\n",
              "      </output>\n",
              "      <script>// Copyright 2017 Google LLC\n",
              "//\n",
              "// Licensed under the Apache License, Version 2.0 (the \"License\");\n",
              "// you may not use this file except in compliance with the License.\n",
              "// You may obtain a copy of the License at\n",
              "//\n",
              "//      http://www.apache.org/licenses/LICENSE-2.0\n",
              "//\n",
              "// Unless required by applicable law or agreed to in writing, software\n",
              "// distributed under the License is distributed on an \"AS IS\" BASIS,\n",
              "// WITHOUT WARRANTIES OR CONDITIONS OF ANY KIND, either express or implied.\n",
              "// See the License for the specific language governing permissions and\n",
              "// limitations under the License.\n",
              "\n",
              "/**\n",
              " * @fileoverview Helpers for google.colab Python module.\n",
              " */\n",
              "(function(scope) {\n",
              "function span(text, styleAttributes = {}) {\n",
              "  const element = document.createElement('span');\n",
              "  element.textContent = text;\n",
              "  for (const key of Object.keys(styleAttributes)) {\n",
              "    element.style[key] = styleAttributes[key];\n",
              "  }\n",
              "  return element;\n",
              "}\n",
              "\n",
              "// Max number of bytes which will be uploaded at a time.\n",
              "const MAX_PAYLOAD_SIZE = 100 * 1024;\n",
              "\n",
              "function _uploadFiles(inputId, outputId) {\n",
              "  const steps = uploadFilesStep(inputId, outputId);\n",
              "  const outputElement = document.getElementById(outputId);\n",
              "  // Cache steps on the outputElement to make it available for the next call\n",
              "  // to uploadFilesContinue from Python.\n",
              "  outputElement.steps = steps;\n",
              "\n",
              "  return _uploadFilesContinue(outputId);\n",
              "}\n",
              "\n",
              "// This is roughly an async generator (not supported in the browser yet),\n",
              "// where there are multiple asynchronous steps and the Python side is going\n",
              "// to poll for completion of each step.\n",
              "// This uses a Promise to block the python side on completion of each step,\n",
              "// then passes the result of the previous step as the input to the next step.\n",
              "function _uploadFilesContinue(outputId) {\n",
              "  const outputElement = document.getElementById(outputId);\n",
              "  const steps = outputElement.steps;\n",
              "\n",
              "  const next = steps.next(outputElement.lastPromiseValue);\n",
              "  return Promise.resolve(next.value.promise).then((value) => {\n",
              "    // Cache the last promise value to make it available to the next\n",
              "    // step of the generator.\n",
              "    outputElement.lastPromiseValue = value;\n",
              "    return next.value.response;\n",
              "  });\n",
              "}\n",
              "\n",
              "/**\n",
              " * Generator function which is called between each async step of the upload\n",
              " * process.\n",
              " * @param {string} inputId Element ID of the input file picker element.\n",
              " * @param {string} outputId Element ID of the output display.\n",
              " * @return {!Iterable<!Object>} Iterable of next steps.\n",
              " */\n",
              "function* uploadFilesStep(inputId, outputId) {\n",
              "  const inputElement = document.getElementById(inputId);\n",
              "  inputElement.disabled = false;\n",
              "\n",
              "  const outputElement = document.getElementById(outputId);\n",
              "  outputElement.innerHTML = '';\n",
              "\n",
              "  const pickedPromise = new Promise((resolve) => {\n",
              "    inputElement.addEventListener('change', (e) => {\n",
              "      resolve(e.target.files);\n",
              "    });\n",
              "  });\n",
              "\n",
              "  const cancel = document.createElement('button');\n",
              "  inputElement.parentElement.appendChild(cancel);\n",
              "  cancel.textContent = 'Cancel upload';\n",
              "  const cancelPromise = new Promise((resolve) => {\n",
              "    cancel.onclick = () => {\n",
              "      resolve(null);\n",
              "    };\n",
              "  });\n",
              "\n",
              "  // Wait for the user to pick the files.\n",
              "  const files = yield {\n",
              "    promise: Promise.race([pickedPromise, cancelPromise]),\n",
              "    response: {\n",
              "      action: 'starting',\n",
              "    }\n",
              "  };\n",
              "\n",
              "  cancel.remove();\n",
              "\n",
              "  // Disable the input element since further picks are not allowed.\n",
              "  inputElement.disabled = true;\n",
              "\n",
              "  if (!files) {\n",
              "    return {\n",
              "      response: {\n",
              "        action: 'complete',\n",
              "      }\n",
              "    };\n",
              "  }\n",
              "\n",
              "  for (const file of files) {\n",
              "    const li = document.createElement('li');\n",
              "    li.append(span(file.name, {fontWeight: 'bold'}));\n",
              "    li.append(span(\n",
              "        `(${file.type || 'n/a'}) - ${file.size} bytes, ` +\n",
              "        `last modified: ${\n",
              "            file.lastModifiedDate ? file.lastModifiedDate.toLocaleDateString() :\n",
              "                                    'n/a'} - `));\n",
              "    const percent = span('0% done');\n",
              "    li.appendChild(percent);\n",
              "\n",
              "    outputElement.appendChild(li);\n",
              "\n",
              "    const fileDataPromise = new Promise((resolve) => {\n",
              "      const reader = new FileReader();\n",
              "      reader.onload = (e) => {\n",
              "        resolve(e.target.result);\n",
              "      };\n",
              "      reader.readAsArrayBuffer(file);\n",
              "    });\n",
              "    // Wait for the data to be ready.\n",
              "    let fileData = yield {\n",
              "      promise: fileDataPromise,\n",
              "      response: {\n",
              "        action: 'continue',\n",
              "      }\n",
              "    };\n",
              "\n",
              "    // Use a chunked sending to avoid message size limits. See b/62115660.\n",
              "    let position = 0;\n",
              "    do {\n",
              "      const length = Math.min(fileData.byteLength - position, MAX_PAYLOAD_SIZE);\n",
              "      const chunk = new Uint8Array(fileData, position, length);\n",
              "      position += length;\n",
              "\n",
              "      const base64 = btoa(String.fromCharCode.apply(null, chunk));\n",
              "      yield {\n",
              "        response: {\n",
              "          action: 'append',\n",
              "          file: file.name,\n",
              "          data: base64,\n",
              "        },\n",
              "      };\n",
              "\n",
              "      let percentDone = fileData.byteLength === 0 ?\n",
              "          100 :\n",
              "          Math.round((position / fileData.byteLength) * 100);\n",
              "      percent.textContent = `${percentDone}% done`;\n",
              "\n",
              "    } while (position < fileData.byteLength);\n",
              "  }\n",
              "\n",
              "  // All done.\n",
              "  yield {\n",
              "    response: {\n",
              "      action: 'complete',\n",
              "    }\n",
              "  };\n",
              "}\n",
              "\n",
              "scope.google = scope.google || {};\n",
              "scope.google.colab = scope.google.colab || {};\n",
              "scope.google.colab._files = {\n",
              "  _uploadFiles,\n",
              "  _uploadFilesContinue,\n",
              "};\n",
              "})(self);\n",
              "</script> "
            ]
          },
          "metadata": {}
        },
        {
          "output_type": "stream",
          "name": "stdout",
          "text": [
            "Saving test.csv to test.csv\n"
          ]
        }
      ]
    },
    {
      "cell_type": "code",
      "source": [
        "%%R\n",
        "\n",
        "# Please change the name of your table here.\n",
        "df <- read.csv(\"/content/test.csv\")\n",
        "\n",
        "# Using data from CSV file to set variables\n",
        "for (i in 1:nrow(df)) {\n",
        "  allele_value <- df[i, 1]\n",
        "  query_value <- df[i, 2]\n",
        "\n",
        "  # Create a unique identifier for files\n",
        "  file_identifier <- paste(allele_value, query_value, sep = \"_\")\n",
        "  file_identifier <- gsub(\"[:*]\", \"\", file_identifier) # Remove special characters that may not be valid in file names\n",
        "\n",
        "  # Set up the database with specific allele, withOUT off_target\n",
        "  tryCatch({\n",
        "    database <- cross_background(allele = allele_value)\n",
        "\n",
        "    # Compose result using the query value\n",
        "    result <- cross_compose(query = query_value, background = database)\n",
        "\n",
        "    # Save each result to a separate CSV file\n",
        "    result_file_name <- paste0(file_identifier, \".csv\")\n",
        "    write.csv(result@result, file = result_file_name, row.names = FALSE)\n",
        "    print(paste0(\"Your results were saved as: \", result_file_name))\n",
        "\n",
        "    # Extracting the gene donor mRNA expression based on CR candidates\n",
        "    expression_matrix <- cross_expression_matrix(result, pvalue_threshold = 0.005)\n",
        "\n",
        "    # The heatmap presenting the gene donor expression profile\n",
        "    pdf(paste0(file_identifier, \"_expression_heatmap.pdf\"), width = 10, height = 8)\n",
        "    cross_expression_plot(object = expression_matrix)\n",
        "    on.exit(dev.off())\n",
        "    print(paste0(\"Your heatmap presenting the gene donor expression profile was saved as: \", file_identifier, \"_expression_heatmap.pdf\"))\n",
        "\n",
        "    # Bar plot summarizing the tissue-specificity groups\n",
        "    pdf(paste0(file_identifier, \"_tissue_specificity.pdf\"), width = 10, height = 8)\n",
        "    cross_tissues_plot(object = expression_matrix)\n",
        "    on.exit(dev.off())\n",
        "    print(paste0(\"Your Bar plot summarizing the tissue-specificity groups was saved as: \", file_identifier, \"_tissue_specificity.pdf\"))\n",
        "\n",
        "    # Calculate position-specific substitution across cross-reactive candidates\n",
        "    cross_result <- cross_substitution_matrix(result)\n",
        "\n",
        "    # Heatmap combined with seqlogo displaying amino acid substitutions\n",
        "    pdf(paste0(file_identifier, \"_cross_substitution.pdf\"), width = 10, height = 8)\n",
        "    cross_substitution_plot(object = cross_result)\n",
        "    on.exit(dev.off())\n",
        "    print(paste0(\"Your Heatmap combined with seqlogo displaying amino acid substitutions was saved as: \", file_identifier, \"_cross_substitution.pdf\"))\n",
        "\n",
        "  }, error = function(e) {\n",
        "    # Handle error by printing a message\n",
        "    print(paste0(\"Error processing allele '\", allele_value, \"': \", e$message))\n",
        "  })\n",
        "}"
      ],
      "metadata": {
        "colab": {
          "base_uri": "https://localhost:8080/"
        },
        "id": "T1WUh8vBUTZc",
        "outputId": "34bd6667-9fda-4fd5-b988-f4eebc02484c"
      },
      "execution_count": 13,
      "outputs": [
        {
          "output_type": "stream",
          "name": "stdout",
          "text": [
            "##------ Tue Aug 27 15:27:40 2024 ------##\n",
            "[1] \"Your results were saved as: HLA-A0201_RPILTISTL.csv\"\n",
            "[1] \"Your heatmap presenting the gene donor expression profile was saved as: HLA-A0201_RPILTISTL_expression_heatmap.pdf\"\n",
            "[1] \"Your Bar plot summarizing the tissue-specificity groups was saved as: HLA-A0201_RPILTISTL_tissue_specificity.pdf\"\n",
            "[1] \"Your Heatmap combined with seqlogo displaying amino acid substitutions was saved as: HLA-A0201_RPILTISTL_cross_substitution.pdf\"\n",
            "##------ Tue Aug 27 15:27:51 2024 ------##\n",
            "[1] \"Your results were saved as: HLA-B0702_RPILTISTL.csv\"\n",
            "[1] \"Your heatmap presenting the gene donor expression profile was saved as: HLA-B0702_RPILTISTL_expression_heatmap.pdf\"\n",
            "[1] \"Your Bar plot summarizing the tissue-specificity groups was saved as: HLA-B0702_RPILTISTL_tissue_specificity.pdf\"\n",
            "[1] \"Your Heatmap combined with seqlogo displaying amino acid substitutions was saved as: HLA-B0702_RPILTISTL_cross_substitution.pdf\"\n"
          ]
        }
      ]
    },
    {
      "cell_type": "code",
      "source": [
        "#@title ### Import Google Drive\n",
        "#@markdown Click on the \"Run\" button if you would like to connect your analysis to your Google Drive.\n",
        "%%capture\n"
      ],
      "metadata": {
        "id": "z94RkVMBpro4",
        "cellView": "form"
      },
      "execution_count": null,
      "outputs": []
    },
    {
      "cell_type": "code",
      "source": [
        "#@title ### **Save results on Drive**\n",
        "\n",
        "#@markdown Run this cell to save your results on your Google Drive\n",
        "#@markdown ---\n",
        "#@markdown Please, complete the name of the folder you would like to create with your results in the folder_name area\n",
        "\n",
        "from google.colab import drive\n",
        "\n",
        "drive.flush_and_unmount()\n",
        "drive.mount('/content/drive', force_remount=True)\n",
        "\n",
        "folder_name = \"CrossDome_Results\" #@param {type:\"string\"}\n",
        "\n",
        "#@markdown Please, complete the path of the folder you would like to create with your results in the path_results area\n",
        "path_results = \"/content/drive/MyDrive/1.PhD/CrossDome\" #@param {type:\"string\"}\n",
        "# Import necessary modules\n",
        "import os\n",
        "\n",
        "# Construct the full path to the results\n",
        "full_results_path = os.path.join(path_results, folder_name)\n",
        "\n",
        "\n",
        "# Create a folder in the root directory\n",
        "if os.path.exists(path_results):\n",
        "    # Create the folder to save the results\n",
        "    os.system(f'mkdir -p {full_results_path}')\n",
        "\n",
        "    #directory_files = os.listdir(\"/content/\")\n",
        "    os.system(f'cp /content/*.pdf {full_results_path}')\n",
        "    os.system(f'cp /content/*.csv {full_results_path}')\n",
        "    print(\"Results saved successfully.\")\n",
        "else:\n",
        "    print(\"Folder not found. Please check the library path and name.\")\n",
        "\n"
      ],
      "metadata": {
        "id": "sDLbtLtQWTsR",
        "cellView": "form",
        "colab": {
          "base_uri": "https://localhost:8080/"
        },
        "outputId": "5f963ff2-ddb2-42f8-a648-567522752504"
      },
      "execution_count": null,
      "outputs": [
        {
          "output_type": "stream",
          "name": "stdout",
          "text": [
            "Drive not mounted, so nothing to flush and unmount.\n",
            "Mounted at /content/drive\n",
            "Results saved successfully.\n"
          ]
        }
      ]
    },
    {
      "cell_type": "markdown",
      "source": [
        "**If any of your heatmaps seems o tight, please run Colabe_Single_Entry for the respective pair of Allele and Peptide.**"
      ],
      "metadata": {
        "id": "iw6IFphibnRj"
      }
    }
  ]
}